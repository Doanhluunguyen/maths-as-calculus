{
 "cells": [
  {
   "cell_type": "code",
   "execution_count": 1,
   "metadata": {
    "slideshow": {
     "slide_type": "skip"
    }
   },
   "outputs": [],
   "source": [
    "from ipywidgets import interact, interactive, FloatSlider, Label, HTMLMath\n",
    "from IPython.display import display, Math\n",
    "import matplotlib.pyplot as plt\n",
    "import numpy as np\n",
    "%matplotlib inline"
   ]
  },
  {
   "cell_type": "code",
   "execution_count": 2,
   "metadata": {
    "slideshow": {
     "slide_type": "skip"
    }
   },
   "outputs": [],
   "source": [
    "plt.style.use('seaborn')"
   ]
  },
  {
   "cell_type": "markdown",
   "metadata": {
    "slideshow": {
     "slide_type": "slide"
    }
   },
   "source": [
    "# Differentiation from first principles\n",
    "\n",
    "In kinematics, velocity is the *rate of change* of displacement.\n",
    "\n",
    "In other words, the gradient on a displacement-time (or position-time) graph is velocity."
   ]
  },
  {
   "cell_type": "markdown",
   "metadata": {
    "slideshow": {
     "slide_type": "subslide"
    }
   },
   "source": [
    "We showed that if you look at a small enough interval of time, the *constant velocity* formula $v=\\dfrac{s}{t}$ is close to the actual velocity at that instant. The smaller the time interval, the better the approximation gets.\n",
    "\n",
    "The gradient of the green lines *tends towards* the gradient of the blue curve, shown by the red *tangent* line."
   ]
  },
  {
   "cell_type": "code",
   "execution_count": 3,
   "metadata": {
    "hide_input": true,
    "slideshow": {
     "slide_type": "-"
    }
   },
   "outputs": [
    {
     "data": {
      "image/png": "[encoded data removed]",
      "text/plain": [
       "<Figure size 576x396 with 1 Axes>"
      ]
     },
     "metadata": {},
     "output_type": "display_data"
    }
   ],
   "source": [
    "axes = plt.subplot(111)\n",
    "axes.set_axis_off()\n",
    "ts = np.linspace(0,4,50)\n",
    "ss = ts**2\n",
    "gs = 2*ts-1\n",
    "\n",
    "axes.plot(ts,gs,'r--')\n",
    "axes.plot(ts,ss,lw=5)\n",
    "axes.plot([1,4],[1,16],'go-')\n",
    "axes.plot([1,3],[1,9],'go-')\n",
    "axes.plot([1,2],[1,4],'go-');"
   ]
  },
  {
   "cell_type": "markdown",
   "metadata": {
    "hide_input": false,
    "slideshow": {
     "slide_type": "subslide"
    }
   },
   "source": [
    "## Choose a function\n",
    "\n",
    "This process works on any curve as a way to find the gradient.\n",
    "\n",
    "$f(x)=x^2$ is a good function to start with."
   ]
  },
  {
   "cell_type": "code",
   "execution_count": 4,
   "metadata": {
    "slideshow": {
     "slide_type": "-"
    }
   },
   "outputs": [],
   "source": [
    "def f(x):\n",
    "    return x**2"
   ]
  },
  {
   "cell_type": "code",
   "execution_count": 5,
   "metadata": {
    "hide_input": true,
    "scrolled": false,
    "slideshow": {
     "slide_type": "subslide"
    }
   },
   "outputs": [
    {
     "data": {
      "application/vnd.jupyter.widget-view+json": {
       "model_id": "e4cee873477048348c76d9c81153d916",
       "version_major": 2,
       "version_minor": 0
      },
      "text/plain": [
       "interactive(children=(FloatSlider(value=2.0, continuous_update=False, description='$\\\\delta x$', max=2.0, min=…"
      ]
     },
     "metadata": {},
     "output_type": "display_data"
    }
   ],
   "source": [
    "h_slider=FloatSlider(description=\"$\\delta x$\",value=2,min=0.001,max=2,step=0.001,continuous_update=False)\n",
    "x_slider=FloatSlider(min=0.5,value=2,max=3,step=0.5,continuous_update=False)\n",
    "\n",
    "def update(h=2,x=1):\n",
    "    # draw some axes\n",
    "    axes = plt.subplot(111)\n",
    "    axes.set_xlim(0,x+2.1)\n",
    "    axes.set_ylim(f(0),f(x+2))\n",
    "    \n",
    "    # generate some x coordinates\n",
    "    xs = np.linspace(0,x+2,50)\n",
    "    # calculate the y coordinates\n",
    "    ys = f(xs)\n",
    "\n",
    "    # draw the graph\n",
    "    axes.plot(xs,ys)\n",
    "    # draw a chord\n",
    "    axes.plot([x,x+h],[f(x),f(x+h)],lw=5)\n",
    "\n",
    "    # draw triangle\n",
    "    axes.plot([x,x+h],[f(x),f(x)],'k--',alpha=0.5)\n",
    "    axes.plot([x+h,x+h],[f(x),f(x+h)],'k--',alpha=0.5)\n",
    "    axes.annotate(\"$\\delta y$\",xy=(x+h,(f(x)+f(x+h))/2))\n",
    "    axes.annotate(\"$\\delta x$\",xy=(x+h/2,f(x)))\n",
    "    plt.show()\n",
    "    display(Math(r'\\dfrac{{\\delta y}}{{\\delta x}}=\\dfrac{{f(x+\\delta x)-f(x)}}{{\\delta x}}=\\dfrac{{{}-{}}}{{{}}}={}'.format(round(f(x+h),2),f(x),h,round((f(x+h)-f(x))/h,2))))\n",
    "\n",
    "interactive_plot = interactive(update,x=x_slider,h=h_slider)\n",
    "interactive_plot"
   ]
  },
  {
   "cell_type": "markdown",
   "metadata": {
    "slideshow": {
     "slide_type": "subslide"
    }
   },
   "source": [
    "As $\\delta x \\to 0$, $\\dfrac{\\delta y}{\\delta x}\\to \\dfrac{\\text{d}y}{\\text{d}x}$, called the *derivative* of $y$ with respect to $x$.\n",
    "\n",
    "In other words,\n",
    "\n",
    "$$\\dfrac{\\text{d}y}{\\text{d}x}=\\lim_{\\delta x\\to0}\\dfrac{f(x+\\delta x)-f(x)}{\\delta x}$$\n",
    "\n",
    "This process is called *differentiation*."
   ]
  },
  {
   "cell_type": "markdown",
   "metadata": {
    "slideshow": {
     "slide_type": "subslide"
    }
   },
   "source": [
    "For $y=x^2$ we saw that $\\dfrac{\\text{d}y}{\\text{d}x}=2x$.\n",
    "\n",
    "Now go back and try\n",
    "* $y=3x^2$\n",
    "* $y=x^2+x$\n",
    "* $y=x^3$\n",
    "\n",
    "See what you can find out."
   ]
  },
  {
   "cell_type": "markdown",
   "metadata": {
    "slideshow": {
     "slide_type": "subslide"
    }
   },
   "source": [
    "## Proof\n",
    "\n",
    "You won't have to go through this whole process in your exam; there are rules for differentiating that you'll be allowed to just use.\n",
    "\n",
    "*But* you might be asked to prove some cases using limits. This is called *differentiation from first principles*."
   ]
  },
  {
   "cell_type": "markdown",
   "metadata": {
    "slideshow": {
     "slide_type": "subslide"
    }
   },
   "source": [
    "Let's go back to $y=x^2$\n",
    "\\begin{aligned}\n",
    "\\dfrac{\\text{d}y}{\\text{d}x}&=\\lim_{\\delta x\\to0}\\dfrac{(x+\\delta x)^2-x^2}{\\delta x}\\\\\n",
    "&=\\lim\\dfrac{x^2+2\\delta x\\,x+(\\delta x)^2-x^2}{\\delta x}\\\\\n",
    "&=\\lim\\dfrac{2\\delta x\\,x+(\\delta x)^2}{\\delta x}\\\\\n",
    "&=\\lim_{\\delta x\\to0}{2x+\\delta x}\\\\\n",
    "&=2x\n",
    "\\end{aligned}\n",
    "$$$$\n"
   ]
  },
  {
   "cell_type": "markdown",
   "metadata": {
    "slideshow": {
     "slide_type": "subslide"
    }
   },
   "source": [
    "### Your turn\n",
    "\n",
    "Differentiate from first principles\n",
    "* $y=3x^2$\n",
    "* $y=x^2+x$\n",
    "* $y=x^3$\n",
    "\n",
    "What do you notice? If you have a conjecture, test it with more examples."
   ]
  }
 ],
 "metadata": {
  "celltoolbar": "Slideshow",
  "kernelspec": {
   "display_name": "Python 3",
   "language": "python",
   "name": "python3"
  },
  "language_info": {
   "codemirror_mode": {
    "name": "ipython",
    "version": 3
   },
   "file_extension": ".py",
   "mimetype": "text/x-python",
   "name": "python",
   "nbconvert_exporter": "python",
   "pygments_lexer": "ipython3",
   "version": "3.6.7"
  }
 },
 "nbformat": 4,
 "nbformat_minor": 2
}
