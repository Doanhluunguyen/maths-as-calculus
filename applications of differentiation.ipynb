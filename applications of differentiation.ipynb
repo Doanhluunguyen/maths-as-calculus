{
 "cells": [
  {
   "cell_type": "code",
   "execution_count": 1,
   "metadata": {
    "slideshow": {
     "slide_type": "skip"
    }
   },
   "outputs": [],
   "source": [
    "import numpy as np\n",
    "import matplotlib.pyplot as plt\n",
    "from sympy import *\n",
    "from IPython.display import Math, display\n",
    "%matplotlib inline\n",
    "init_printing('latex')"
   ]
  },
  {
   "cell_type": "code",
   "execution_count": 2,
   "metadata": {
    "slideshow": {
     "slide_type": "skip"
    }
   },
   "outputs": [],
   "source": [
    "plt.style.use('seaborn')\n",
    "x, y = symbols('x y')"
   ]
  },
  {
   "cell_type": "markdown",
   "metadata": {
    "slideshow": {
     "slide_type": "slide"
    }
   },
   "source": [
    "# Differentiation from first principles\n",
    "\n",
    "You may be asked to use the definition $$\\dfrac{\\text{d}y}{\\text{d}x}=\\lim_{h\\to 0}\\dfrac{f(x+h)-f(x)}{h}$$ to find the derivatives of some simple functions.\n",
    "\n",
    "For example,\n",
    "\n",
    "> prove that if $y=5x^2$, then $\\dfrac{\\text{d}y}{\\text{d}x}=10x$"
   ]
  },
  {
   "cell_type": "markdown",
   "metadata": {
    "slideshow": {
     "slide_type": "slide"
    }
   },
   "source": [
    "# Rules for differentiating\n",
    "\n",
    "Mostly though, you'll just be using the rules we've found\n",
    "\n",
    "* If $y=x^n$, then $\\dfrac{\\text{d}y}{\\text{d}x}=nx^{n-1}$\n",
    "* The derivative of a sum is the sum of the derivatives.\n",
    "* The derivative of a constant multiple is the multiple of the derivative.\n",
    "\n",
    "> Differentiate\n",
    "1. $y=x^2+x+1$\n",
    "1. $y=2x^4-x^2$\n",
    "1. $y=\\dfrac{x^5}{2}-\\dfrac{x^4}{3}+\\dfrac{x^3}{4}-79$"
   ]
  },
  {
   "cell_type": "markdown",
   "metadata": {
    "slideshow": {
     "slide_type": "slide"
    }
   },
   "source": [
    "# Applying differentiation\n",
    "\n",
    "The two most common applications at this stage are\n",
    "\n",
    "* finding maximum or minimum points (or other *stationary points*) on curves\n",
    "* recognising where a function is *increasing* or *decreasing*\n",
    "* finding *tangents* (and *normals*)"
   ]
  },
  {
   "cell_type": "markdown",
   "metadata": {
    "slideshow": {
     "slide_type": "subslide"
    }
   },
   "source": [
    "> Use `desmos` to plot the graphs of the following cubic functions\n",
    ">\n",
    "* $y=2x^3-9x^2+12x-3$\n",
    "* $y=x^3-3x^2+3x+2$\n",
    "* $y=x^3+3x+4$\n",
    ">\n",
    "> What's the same? What's different?"
   ]
  },
  {
   "cell_type": "markdown",
   "metadata": {
    "slideshow": {
     "slide_type": "subslide"
    }
   },
   "source": [
    "> If a curve has reached a turning point (a *local* minimum, or a *local* maximum), what is the gradient?"
   ]
  },
  {
   "cell_type": "markdown",
   "metadata": {
    "slideshow": {
     "slide_type": "subslide"
    }
   },
   "source": [
    "We can find *stationary points* on a curve by looking for solutions to\n",
    "$$\\dfrac{\\text{d}y}{\\text{d}x}=0$$\n",
    "\n",
    "> Find any stationary points on the three cubics above."
   ]
  },
  {
   "cell_type": "markdown",
   "metadata": {
    "slideshow": {
     "slide_type": "subslide"
    }
   },
   "source": [
    "We sometimes use the alternative notation $f'$ for the derivative of $f$.\n",
    "\n",
    "If $y=f(x)$ then $\\dfrac{\\text{d}y}{\\text{d}x}=f'(x)$"
   ]
  },
  {
   "cell_type": "code",
   "execution_count": 9,
   "metadata": {
    "hide_input": true,
    "scrolled": false,
    "slideshow": {
     "slide_type": "-"
    }
   },
   "outputs": [
    {
     "data": {
      "text/latex": [
       "$$f(x)=4 x^{3} - 36 x^{2} + 60 x - 8$$"
      ],
      "text/plain": [
       "<IPython.core.display.Math object>"
      ]
     },
     "metadata": {},
     "output_type": "display_data"
    }
   ],
   "source": [
    "# random solvable quadratic\n",
    "a = np.random.choice([6,6,6,-6,12,12])\n",
    "p, q, c = np.random.randint(-9,9,3)\n",
    "dy = expand(a*(x-p)*(x-q))\n",
    "\n",
    "# integrate it to get a nice cubic\n",
    "y = integrate(dy,x)+c\n",
    "display(Math(\"f(x)={}\".format(latex(y))))"
   ]
  },
  {
   "cell_type": "code",
   "execution_count": 10,
   "metadata": {
    "hide_input": true,
    "scrolled": false,
    "slideshow": {
     "slide_type": "fragment"
    }
   },
   "outputs": [
    {
     "data": {
      "text/latex": [
       "$$f'(x)=12 x^{2} - 72 x + 60$$"
      ],
      "text/plain": [
       "<IPython.core.display.Math object>"
      ]
     },
     "metadata": {},
     "output_type": "display_data"
    }
   ],
   "source": [
    "display(Math(\"f'(x)={}\".format(latex(dy))))"
   ]
  },
  {
   "cell_type": "code",
   "execution_count": 5,
   "metadata": {
    "hide_input": true,
    "slideshow": {
     "slide_type": "fragment"
    }
   },
   "outputs": [
    {
     "data": {
      "text/latex": [
       "$$6 x^{2} - 294>0 \\implies$$"
      ],
      "text/plain": [
       "<IPython.core.display.Math object>"
      ]
     },
     "metadata": {},
     "output_type": "display_data"
    },
    {
     "data": {
      "image/png": "[encoded data removed]",
      "text/latex": [
       "$$\\left(-\\infty < x \\wedge x < -7\\right) \\vee \\left(7 < x \\wedge x < \\infty\\right)$$"
      ],
      "text/plain": [
       "(-∞ < x ∧ x < -7) ∨ (7 < x ∧ x < ∞)"
      ]
     },
     "execution_count": 5,
     "metadata": {},
     "output_type": "execute_result"
    }
   ],
   "source": [
    "display(Math(\"{}>0 \\implies\".format(latex(dy))))\n",
    "solve_univariate_inequality(dy>0,x)"
   ]
  }
 ],
 "metadata": {
  "celltoolbar": "Slideshow",
  "kernelspec": {
   "display_name": "Python 3",
   "language": "python",
   "name": "python3"
  },
  "language_info": {
   "codemirror_mode": {
    "name": "ipython",
    "version": 3
   },
   "file_extension": ".py",
   "mimetype": "text/x-python",
   "name": "python",
   "nbconvert_exporter": "python",
   "pygments_lexer": "ipython3",
   "version": "3.5.2"
  }
 },
 "nbformat": 4,
 "nbformat_minor": 2
}
